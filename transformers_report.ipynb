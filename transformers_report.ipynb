{
 "cells": [
  {
   "cell_type": "markdown",
   "id": "9336993a",
   "metadata": {
    "papermill": {
     "duration": 0.020647,
     "end_time": "2022-02-25T18:52:55.464554",
     "exception": false,
     "start_time": "2022-02-25T18:52:55.443907",
     "status": "completed"
    },
    "tags": []
   },
   "source": [
    "### Họ và tên: Nguyễn Tiến Dũng\n",
    "### MSSV: 20215331\n",
    "### Giảng viên hướng dẫn: Đỗ Công Thuần\n",
    "\n"
   ]
  },
  {
   "cell_type": "markdown",
   "id": "ffcab3e0",
   "metadata": {},
   "source": [
    "# Transformers"
   ]
  },
  {
   "cell_type": "markdown",
   "id": "d63f49f3",
   "metadata": {},
   "source": [
    "## Trình bày chi tiết đề tài\n",
    "### I.\tĐặt vấn đề\n",
    "Trong lĩnh vực xử lý ngôn ngữ tự nhiên và dữ liệu chuỗi thời gian, việc hiểu và áp dụng các mô hình có khả năng học biểu diễn từ ngữ và dữ liệu chuỗi thời gian một cách hiệu quả đang trở thành một thách thức đối với cộng đồng nghiên cứu. Truyền thống, các mô hình như Long Short-Term Memory (LSTM) và Gated Recurrent Unit (GRU) đã được sử dụng phổ biến trong việc xử lý chuỗi thời gian và ngôn ngữ tự nhiên. Tuy nhiên, những mô hình này vẫn tồn tại một số hạn chế, như vấn đề về vanishing gradient và khả năng mở rộng có hạn.\n",
    "\n",
    "Mô hình Transformer, ra đời từ nghiên cứu \"Attention is All You Need\" của Vaswani et al. vào năm 2017, đã đem lại một cách tiếp cận mới và mạnh mẽ trong việc xử lý dữ liệu chuỗi. Transformer không sử dụng các kiến trúc chuỗi truyền thống như LSTM và GRU, thay vào đó, nó tập trung vào cơ chế Attention để hiểu mối quan hệ giữa các phần tử trong chuỗi một cách toàn diện và hiệu quả hơn.\n",
    "\n",
    "Trong bối cảnh này, việc tìm hiểu về mô hình Transformer và cách áp dụng nó trong các bài toán xử lý ngôn ngữ tự nhiên và dữ liệu chuỗi thời gian trở nên cực kỳ quan trọng. Báo cáo này sẽ đi sâu vào cơ chế hoạt động của Transformer, cách mà nó giải quyết những hạn chế của các mô hình truyền thống, và cách áp dụng nó trong các bài toán thực tế như dự đoán chuỗi thời gian và xử lý ngôn ngữ tự nhiên.\n",
    "\n",
    "### II.\tTóm tắt nội dung bài báo “Attention is All You Need” của Vaswani et al.\n",
    "Bài báo \"Attention is All You Need\" của Vaswani et al. giới thiệu mô hình Transformer, một mô hình học sâu không sử dụng các lớp học sâu thông thường như LSTM (Long Short-Term Memory) hay GRU (Gated Recurrent Unit) trong mô hình mã hóa giải mã cho các nhiệm vụ xử lý chuỗi, chẳng hạn như dịch máy.\n",
    "\n",
    "Dưới đây là một tóm tắt về nội dung chính của bài báo:\n",
    "1. Kiến Trúc Transformer:\n",
    "   - Mô hình Transformer sử dụng cơ chế Attention để tập trung vào các phần quan trọng của chuỗi đầu vào trong quá trình mã hóa và giải mã.\n",
    "   - Kiến trúc này bao gồm nhiều lớp mã hóa và giải mã, mỗi lớp này chứa một mô-đun chính với cấu trúc tương tự.\n",
    "2. Cơ Chế Attention:\n",
    "   - Attention được sử dụng để xem xét tất cả các từ trong chuỗi đầu vào khi đang xử lý một từ cụ thể. Điều này giúp mô hình tập trung vào các phần quan trọng của chuỗi.\n",
    "3. Multi-Head Attention:\n",
    "   - Mô hình sử dụng nhiều \"đầu\" Attention, mỗi đầu tập trung vào một biểu diễn khác nhau của chuỗi đầu vào. Sau đó, kết quả từ các đầu được kết hợp để đưa ra kết quả cuối cùng.\n",
    "4. Mã Hóa và Giải Mã Đa Lớp:\n",
    "   - Mô hình Transformer bao gồm nhiều lớp mã hóa và giải mã. Mỗi lớp có thể chứa nhiều đầu Attention và các lớp mạng truyền thẳng (feedforward).\n",
    "5. Tính Toán Hiệu Quả:\n",
    "   - Mô hình Transformer được thiết kế để tính toán song song hiệu quả, giúp giảm thời gian huấn luyện và làm tăng hiệu suất so với các mô hình trước đó.\n",
    "6. Ứng Dụng Trong Dịch Máy:\n",
    "   - Bài báo thử nghiệm mô hình Transformer trong nhiều nhiệm vụ, như dịch máy. Mô hình này đã cho thấy hiệu suất tốt và vượt trội so với các mô hình truyền thống khác.\n",
    "\n",
    "\"Bài báo Attention is All You Need\" đã mở đường cho sự phát triển của các mô hình sử dụng cơ chế Attention, và Transformer nhanh chóng trở thành một trong những mô hình quan trọng và phổ biến trong lĩnh vực xử lý ngôn ngữ tự nhiên và học máy nói chung.\n",
    "\n",
    "### III.\tCơ chế Attention và Thiết kế Transformer\n",
    "a.\tCơ chế Attention: \n",
    "Cơ chế Attention là một phương pháp mà trong quá trình xử lý một phần tử trong chuỗi, mô hình có thể tập trung vào các phần khác của chuỗi đầu vào. Điều này giúp giải quyết vấn đề \"long-range dependencies\" trong các chuỗi dài. Cơ chế Attention tính toán một trọng số cho mỗi phần tử trong chuỗi đầu vào dựa trên mức độ quan trọng của nó đối với phần tử đang xử lý. Các trọng số này sau đó được sử dụng để tạo ra một tổ hợp có trọng số của các phần tử, tạo ra biểu diễn kết hợp.\n",
    "\n",
    "b.\t Thiết Kế Transformer:\n",
    "1. Đầu vào và Đầu ra:\n",
    "   - Mô hình Transformer nhận vào một chuỗi đầu vào và tạo ra một chuỗi đầu ra, thích hợp cho nhiều nhiệm vụ, chẳng hạn như dịch máy.\n",
    "2. Kiến Trúc Mã Hóa-Giải Mã:\n",
    "   - Transformer có kiến trúc mã hóa-giải mã với nhiều lớp mã hóa và giải mã.\n",
    "   - Lớp mã hóa giúp biểu diễn chuỗi đầu vào, trong khi lớp giải mã sẽ dựa trên biểu diễn này để tạo ra chuỗi đầu ra.\n",
    "3. Mô-đun Self-Attention:\n",
    "   - Là một phần quan trọng của Transformer, mô-đun Self-Attention cho phép mô hình tập trung vào các phần khác nhau của chuỗi đầu vào.\n",
    "4. Multi-Head Attention:\n",
    "   - Để nâng cao khả năng học, Transformer sử dụng nhiều đầu Attention độc lập. Kết quả từ các đầu này sau đó được kết hợp để tạo ra biểu diễn cuối cùng.\n",
    "5. Mạng Truyền Thẳng (Feedforward):\n",
    "   - Mỗi lớp của Transformer bao gồm cả một mạng truyền thẳng để xử lý biểu diễn.\n",
    "6. Normalization và Residual Connection:\n",
    "   - Để ổn định quá trình huấn luyện, mỗi lớp thường kết hợp normalization và residual connection.\n",
    "7. Tính Toán Hiệu Quả và Song Song:\n",
    "   - Mô hình được thiết kế để tính toán hiệu quả và tận dụng tính song song của GPU.\n",
    "8. Học Tự Chú Ý (Self-Attention Mechanism):\n",
    "   - Cơ chế tự chú ý giúp mô hình tự học được các mối quan hệ và phụ thuộc trong chuỗi đầu vào và giúp nó hiểu được mối quan hệ giữa các từ từ xa nhau.\n",
    "\n",
    "Mô hình Transformer đã đạt được nhiều thành công trong nhiều nhiệm vụ xử lý ngôn ngữ tự nhiên và thậm chí được mở rộng để áp dụng cho các lĩnh vực khác của học máy.\n",
    "\n",
    "### IV.\tTìm hiểu chi tiết về kiến trúc Transformer\n",
    "Kiến trúc của Transformer bao gồm cả lớp mã hóa và lớp giải mã. Dưới đây là mô tả chi tiết về cả hai phần của kiến trúc này:\n",
    "1. Lớp Mã Hóa (Encoder):\n",
    "   - Đầu vào (Input): Mỗi câu đầu vào được biểu diễn dưới dạng một vectơ, với mỗi từ trong câu được biểu diễn bằng một vectơ từ (word embedding).\n",
    "   - Tính Toán Đầu Tiên (Self-Attention): Các vectơ từ đầu vào được đưa qua mô-đun tự chú ý (self-attention module), cho phép mô hình tập trung vào các phần khác nhau của câu.\n",
    "   - Tích Hợp (Integration): Kết quả từ mô-đun tự chú ý sau đó được tích hợp bằng cách sử dụng một lớp normalization và residual connection.\n",
    "   - Mạng Truyền Thẳng (Feedforward Network): Kết quả từ tích hợp được đưa qua một mạng truyền thẳng để tạo ra biểu diễn cuối cùng của câu.\n",
    "\n",
    "2. Lớp Giải Mã (Decoder):\n",
    "   - Đầu vào (Input): Biểu diễn của câu đầu ra được tạo ra từ lớp mã hóa và được sử dụng làm đầu vào cho lớp giải mã.\n",
    "   - Tính Toán Đầu Tiên (Self-Attention): Tương tự như lớp mã hóa, lớp giải mã cũng sử dụng mô-đun tự chú ý để tập trung vào các phần khác nhau của câu đầu ra.\n",
    "   - Tính Toán Thứ Hai (Encoder-Decoder Attention): Để xử lý mối quan hệ giữa đầu vào và đầu ra, lớp giải mã sử dụng mô-đun chú ý giữa mã hóa và giải mã.\n",
    "   - Tích Hợp và Mạng Truyền Thẳng: Kết quả từ cả hai loại chú ý sau đó được tích hợp và đi qua một mạng truyền thẳng.\n",
    "   - Lớp Phân Loại (Classification Layer): Đầu ra của lớp giải mã được đưa vào một lớp phân loại để dự đoán từ tiếp theo trong chuỗi.\n",
    "\n",
    "3. Cơ Chế Attention (Self-Attention):\n",
    "   - Đầu Vào (Input): Các vectơ từ đầu vào được đưa vào mô-đun tự chú ý.\n",
    "   - Tính Toán Trọng Số Attention (Attention Weights): Mỗi từ đầu vào đóng vai trò như một query, key và value, và trọng số attention được tính dựa trên sự tương quan giữa chúng.\n",
    "   - Tổng Hợp (Weighted Sum): Trọng số attention được sử dụng để tính tổng có trọng số của các vectơ value, tạo ra biểu diễn cuối cùng.\n",
    "\n",
    "- Normalization và Residual Connection: Mỗi lớp trong Transformer thường kết hợp normalization (Layer Normalization) và residual connection để ổn định quá trình huấn luyện.\n",
    "- Feedforward Networks: Cả lớp mã hóa và lớp giải mã đều chứa mạng truyền thẳng để xử lý biểu diễn của câu.\n",
    "- Multi-Head Attention: Cơ chế tự chú ý và chú ý giữa mã hóa và giải mã thường được thực hiện thông qua nhiều đầu attention độc lập, và kết quả từ chúng được kết hợp.\n",
    "\n",
    "Kiến trúc này đã giúp Transformer đạt được những hiệu suất xuất sắc trong nhiều nhiệm vụ xử lý ngôn ngữ tự nhiên và là cơ sở cho nhiều biến thể của mô hình này\n",
    "\n",
    "### V.\tỨng Dụng Cụ Thể của Transformer trong Xử Lý Ngôn Ngữ Tự Nhiên:\n",
    " 1. Dịch Máy (Machine Translation):\n",
    "   - Tổng Quan: Transformer đã mang lại đột phá lớn trong lĩnh vực dịch máy.\n",
    "   - Ưu Điểm: Khả năng mô hình hóa các mối quan hệ phức tạp giữa các từ và tư duy chuỗi toàn cục đã giúp cải thiện chất lượng của các bản dịch.\n",
    "\n",
    " 2. Tạo Văn Bản Tự Động (Text Generation):\n",
    "   - Ứng Dụng: Transformer được sử dụng rộng rãi trong tạo văn bản tự động, bao gồm việc viết bài văn, tạo tiêu đề, và sinh văn bản sáng tạo.\n",
    "   - Ưu Điểm: Khả năng hiểu ngữ cảnh và mối quan hệ giữa các từ giúp mô hình tạo ra văn bản tự nhiên và đa dạng.\n",
    "\n",
    " 3. Trích Xuất Thông Tin (Information Extraction):\n",
    "   - Cơ Chế Attention: Cơ chế chú ý giữa mã hóa và giải mã hỗ trợ trong việc trích xuất thông tin từ văn bản.\n",
    "   - Ứng Dụng: Transformer được sử dụng để nhận diện thực thể, tình hình, và mối quan hệ giữa các yếu tố trong văn bản.\n",
    "\n",
    "4. Tính Toán Mảng Ngôn Ngữ (Language Modeling):\n",
    "   - Mô Hình GPT (Generative Pre-trained Transformer): Mô hình GPT là một biến thể của Transformer được huấn luyện trước trên dữ liệu lớn để hiểu ngôn ngữ tự nhiên.\n",
    "   - Ứng Dụng: GPT được sử dụng cho nhiều tác vụ, bao gồm dự đoán từ tiếp theo trong chuỗi, tạo văn bản, và hỗ trợ chatbot.\n",
    "\n",
    " 5. Nhận Diện Ngôn Ngữ Tự Nhiên (Natural Language Understanding):\n",
    "   - BERT (Bidirectional Encoder Representations from Transformers): Mô hình BERT là một ứng dụng nổi tiếng của Transformer trong việc hiểu ngữ nghĩa và ngữ cảnh của câu.\n",
    "   - Ứng Dụng: BERT được sử dụng cho nhiều tác vụ NLP như phân loại văn bản, dự đoán thứ bậc câu, và giải bài toán câu hỏi đồng nghĩa.\n",
    "\n",
    "6. Phân Loại Văn Bản (Text Classification):\n",
    "   - Ứng Dụng: Transformer được áp dụng trong các bài toán phân loại văn bản như phân loại tin tức, đánh giá sản phẩm, và phân loại ngữ cảnh.\n",
    "\n",
    "7. Phát Triển Chatbot:\n",
    "   - Ứng Dụng: Sử dụng Transformer để xây dựng chatbot với khả năng hiểu ngữ cảnh, tương tác tự nhiên và tạo ra câu trả lời đa dạng.\n",
    "\n",
    "Transformer đã định hình một xu hướng mạnh mẽ trong lĩnh vực xử lý ngôn ngữ tự nhiên, cung cấp các cải tiến đáng kể trong hiệu suất của các ứng dụng NLP và mở ra nhiều cơ hội nghiên cứu và ứng dụng mới.\n"
   ]
  },
  {
   "cell_type": "markdown",
   "id": "8e596fe8",
   "metadata": {},
   "source": [
    "## Implement\n",
    "### Transformers for Stock Price Prediction"
   ]
  },
  {
   "cell_type": "code",
   "execution_count": 1,
   "id": "1a624b8e",
   "metadata": {},
   "outputs": [
    {
     "name": "stdout",
     "output_type": "stream",
     "text": [
      "Defaulting to user installation because normal site-packages is not writeable\n",
      "Requirement already satisfied: yahoofinancials in c:\\users\\lenovo\\appdata\\roaming\\python\\python39\\site-packages (1.20)\n",
      "Requirement already satisfied: pytz>=2022.5 in c:\\users\\lenovo\\appdata\\roaming\\python\\python39\\site-packages (from yahoofinancials) (2023.3.post1)\n",
      "Requirement already satisfied: requests>=2.31 in c:\\users\\lenovo\\appdata\\roaming\\python\\python39\\site-packages (from yahoofinancials) (2.31.0)\n",
      "Requirement already satisfied: appdirs>=1.4.4 in c:\\users\\lenovo\\appdata\\roaming\\python\\python39\\site-packages (from yahoofinancials) (1.4.4)\n",
      "Requirement already satisfied: frozendict>=2.3.4 in c:\\users\\lenovo\\appdata\\roaming\\python\\python39\\site-packages (from yahoofinancials) (2.4.0)\n",
      "Requirement already satisfied: peewee>=3.16.2 in c:\\users\\lenovo\\appdata\\roaming\\python\\python39\\site-packages (from yahoofinancials) (3.17.0)\n",
      "Requirement already satisfied: beautifulsoup4>=4.11.1 in c:\\users\\lenovo\\appdata\\roaming\\python\\python39\\site-packages (from yahoofinancials) (4.12.2)\n",
      "Requirement already satisfied: lxml>=4.9.1 in c:\\users\\lenovo\\appdata\\roaming\\python\\python39\\site-packages (from yahoofinancials) (5.1.0)\n",
      "Requirement already satisfied: soupsieve>1.2 in c:\\users\\lenovo\\appdata\\roaming\\python\\python39\\site-packages (from beautifulsoup4>=4.11.1->yahoofinancials) (2.5)\n",
      "Requirement already satisfied: charset-normalizer<4,>=2 in c:\\users\\lenovo\\appdata\\roaming\\python\\python39\\site-packages (from requests>=2.31->yahoofinancials) (3.3.2)\n",
      "Requirement already satisfied: idna<4,>=2.5 in c:\\users\\lenovo\\appdata\\roaming\\python\\python39\\site-packages (from requests>=2.31->yahoofinancials) (3.6)\n",
      "Requirement already satisfied: urllib3<3,>=1.21.1 in c:\\users\\lenovo\\appdata\\roaming\\python\\python39\\site-packages (from requests>=2.31->yahoofinancials) (2.1.0)\n",
      "Requirement already satisfied: certifi>=2017.4.17 in c:\\users\\lenovo\\appdata\\roaming\\python\\python39\\site-packages (from requests>=2.31->yahoofinancials) (2023.11.17)\n",
      "WARNING:tensorflow:From C:\\Users\\Lenovo\\AppData\\Roaming\\Python\\Python39\\site-packages\\keras\\src\\losses.py:2976: The name tf.losses.sparse_softmax_cross_entropy is deprecated. Please use tf.compat.v1.losses.sparse_softmax_cross_entropy instead.\n",
      "\n"
     ]
    }
   ],
   "source": [
    "#Cài đặt thư viện và import các module cần thiết:\n",
    "#!pip install yahoofinancials: Dòng này cài đặt thư viện yahoofinancials từ PyPI (Python Package Index).\n",
    "# import numpy as np: Import thư viện numpy với tên viết tắt là np.\n",
    "# import tensorflow as tf: Import thư viện TensorFlow để sử dụng trong việc xây dựng mô hình học máy.\n",
    "# import pandas as pd: Import thư viện pandas để làm việc với dữ liệu dạng bảng.\n",
    "# import matplotlib.pyplot as plt: Import thư viện matplotlib để vẽ đồ thị.\n",
    "# from datetime import datetime: Import class datetime từ module datetime để làm việc với thời gian.\n",
    "!pip install yahoofinancials\n",
    "from yahoofinancials import YahooFinancials\n",
    "import numpy as np\n",
    "import tensorflow as tf\n",
    "from tensorflow import keras\n",
    "from tensorflow.keras import layers\n",
    "from tensorflow.keras.layers import Flatten\n",
    "from tensorflow.keras import backend as K\n",
    "from sklearn.preprocessing import MinMaxScaler\n",
    "from sklearn.metrics import mean_squared_error\n",
    "import sqlite3\n",
    "import pandas as pd\n",
    "import math\n",
    "import matplotlib.pyplot as plt\n",
    "from datetime import datetime\n",
    "\n",
    "\n",
    "#Cài đặt định dạng và thiết lập môi trường làm việc:\n",
    "# plt.style.use('default'): Cài đặt định dạng mặc định cho các đồ thị được vẽ bằng matplotlib.\n",
    "plt.style.use('default')\n",
    "\n",
    "\n",
    "#Thiết lập ngẫu nhiên và tái sử dụng mô hình:\n",
    "# seed(1): Thiết lập seed cho môi trường ngẫu nhiên của numpy.\n",
    "# tf.random.set_seed(2): Thiết lập seed cho môi trường ngẫu nhiên của TensorFlow.\n",
    "from numpy.random import seed\n",
    "seed(1)\n",
    "tf.random.set_seed(2)\n",
    "\n",
    "\n",
    "#Định nghĩa các hàm hỗ trợ:\n",
    "# plot_predictions: Hàm này vẽ đồ thị so sánh giá cổ phiếu thực tế và giá cổ phiếu dự đoán.\n",
    "# plot_return_predictions: Hàm này vẽ đồ thị so sánh lợi suất cổ phiếu thực tế và lợi suất cổ phiếu dự đoán.\n",
    "# return_rmse: Hàm này tính và in ra giá trị RMSE (Root Mean Squared Error).\n",
    "# get_ticker_data: Hàm này lấy dữ liệu giá cổ phiếu từ API của Yahoo Financials.\n",
    "# fetch_ticker_data: Hàm này tải dữ liệu giá cổ phiếu từ API của Yahoo Financials và chuyển đổi sang DataFrame của pandas.\n",
    "# shift: Hàm này dùng để dịch chuyển dữ liệu theo thời gian.\n",
    "def plot_predictions(test,predicted,symbol):\n",
    "    plt.plot(test, color='red',label=f'Real {symbol} Stock Price')\n",
    "    plt.plot(predicted, color='blue',label=f'Predicted {symbol} Stock Price')\n",
    "    plt.title(f'{symbol} Stock Price Prediction')\n",
    "    plt.xlabel('Time')\n",
    "    plt.ylabel(f'{symbol} Stock Price')\n",
    "    plt.legend()\n",
    "    plt.show()\n",
    "\n",
    "def plot_return_predictions(test,predicted,symbol):\n",
    "    plt.plot(test, color='red',label=f'Real {symbol} Stock Price Returns')\n",
    "    plt.plot(predicted, color='blue',label=f'Predicted {symbol} Stock Price Return')\n",
    "    plt.title(f'{symbol} Stock Return Prediction')\n",
    "    plt.xlabel('Time')\n",
    "    plt.ylabel(f'{symbol} Stock Price Returns')\n",
    "    plt.legend()\n",
    "    plt.show()\n",
    "    \n",
    "def return_rmse(test,predicted):\n",
    "    rmse = math.sqrt(mean_squared_error(test, predicted))\n",
    "    print(\"The root mean squared error is {}.\".format(rmse))\n",
    "    return rmse\n",
    "\n",
    "def get_ticker_data(ticker: str, param_start_date, param_end_date) -> dict:\n",
    "    raw_data = YahooFinancials(ticker)\n",
    "    return raw_data.get_historical_price_data(param_start_date, param_end_date, \"daily\").copy()\n",
    "\n",
    "def fetch_ticker_data(ticker: str, start_date, end_date) -> pd.DataFrame:\n",
    "    date_range = pd.bdate_range(start=start_date, end=end_date)\n",
    "    values = pd.DataFrame({'Date': date_range})\n",
    "    values['Date'] = pd.to_datetime(values['Date'])\n",
    "    raw_data = get_ticker_data(ticker, start_date, end_date)\n",
    "    return pd.DataFrame(raw_data[ticker][\"prices\"])[['date', 'open', 'high', 'low', 'adjclose', 'volume']]\n",
    "\n",
    "def shift(xs, n):\n",
    "    e = np.empty_like(xs)\n",
    "    if n >= 0:\n",
    "        e[:n] = np.nan\n",
    "        e[n:] = xs[:-n]\n",
    "    else:\n",
    "        e[n:] = np.nan\n",
    "        e[:n] = xs[-n:]\n",
    "    return e"
   ]
  },
  {
   "cell_type": "markdown",
   "id": "9bbc1ac3",
   "metadata": {
    "papermill": {
     "duration": 0.021724,
     "end_time": "2022-02-25T18:53:12.473715",
     "exception": false,
     "start_time": "2022-02-25T18:53:12.451991",
     "status": "completed"
    },
    "tags": []
   },
   "source": [
    "#### Get the Data"
   ]
  },
  {
   "cell_type": "code",
   "execution_count": 6,
   "id": "480e3e91",
   "metadata": {
    "_kg_hide-input": true,
    "_kg_hide-output": true,
    "papermill": {
     "duration": 0.749873,
     "end_time": "2022-02-25T18:53:13.245110",
     "exception": false,
     "start_time": "2022-02-25T18:53:12.495237",
     "status": "completed"
    },
    "tags": []
   },
   "outputs": [],
   "source": [
    "#Import thư viện và module cần thiết: Dòng đầu tiên import class datetime từ module datetime.\n",
    "from datetime import datetime\n",
    "\n",
    "\n",
    "#Chọn biểu tượng cổ phiếu và khoảng thời gian: \n",
    "#Đoạn mã chỉnh sửa biểu tượng cổ phiếu để lấy dữ liệu từ công ty Apple (AAPL)\n",
    "#Đặt khoảng thời gian từ ngày 1 tháng 1 năm 2020 đến ngày hiện tại.\n",
    "symbol_to_fetch = 'AAPL'\n",
    "start_date = '2020-01-01'\n",
    "end_date = datetime.now().strftime('%Y-%m-%d')\n",
    "\n",
    "\n",
    "# Lấy dữ liệu giá cổ phiếu: \n",
    "#Sử dụng hàm fetch_ticker_data để tải dữ liệu giá cổ phiếu của công ty Apple trong khoảng thời gian đã chọn.\n",
    "stock = fetch_ticker_data(symbol_to_fetch, start_date, end_date)\n",
    "\n",
    "\n",
    "#Chỉnh sửa và xử lý dữ liệu: Đặt lại tên cột cho dễ đọc ('DateTime', 'Open', 'High', 'Low', 'Close', 'Volume'). \n",
    "#Chuyển đổi cột thời gian sang đối tượng datetime từ timestamp. \n",
    "#Điền các giá trị trống bằng giá trị của hàng trước đó (ffill) và sau đó (bfill). \n",
    "#Đặt cột DateTime làm cột chỉ số của DataFrame. Thêm cột Symbol để chỉ ra biểu tượng cổ phiếu.\n",
    "stock.columns = ['DateTime', 'Open', 'High', 'Low', 'Close', 'Volume']\n",
    "stock['DateTime'] = stock['DateTime'].apply(lambda x: datetime.fromtimestamp(x))\n",
    "stock = stock.ffill(axis=0) \n",
    "stock = stock.bfill(axis=0) \n",
    "stock = stock.set_index('DateTime')\n",
    "stock['Symbol'] = symbol_to_fetch\n",
    "stock.tail()\n",
    "\n",
    "\n",
    "#Lưu bản sao của DataFrame gốc: \n",
    "#Lưu DataFrame gốc vào original_stock để sử dụng sau này cho mục đích kiểm tra.\n",
    "original_stock = stock\n",
    "original_symbol = symbol_to_fetch\n",
    "\n",
    "\n",
    "#In và hiển thị dữ liệu cuối cùng của cột giá đóng cửa (Close): \n",
    "#In ra các dòng cuối cùng của cột Close để kiểm tra dữ liệu cuối cùng.\n",
    "stock['Close'].tail()"
   ]
  },
  {
   "cell_type": "code",
   "execution_count": null,
   "id": "93cfa68a",
   "metadata": {
    "papermill": {
     "duration": 0.028772,
     "end_time": "2022-02-25T18:53:13.296066",
     "exception": false,
     "start_time": "2022-02-25T18:53:13.267294",
     "status": "completed"
    },
    "tags": []
   },
   "outputs": [],
   "source": [
    "#Import thư viện và module cần thiết: Dòng đầu tiên import class datetime từ module datetime.\n",
    "from datetime import datetime # add this code in 8/1\n",
    "\n",
    "\n",
    "#Chọn biểu tượng cổ phiếu và khoảng thời gian: \n",
    "#Biểu tượng cổ phiếu được chọn là AAPL của công ty Apple. \n",
    "#Khoảng thời gian được chọn từ ngày 1 tháng 1 năm 2017 đến ngày 18 tháng 2 năm 2021.\n",
    "symbol_to_fetch = 'AAPL'\n",
    "start_date = str(datetime(2017, 1, 1).date())\n",
    "end_date = str(datetime(2021, 2, 18).date())"
   ]
  },
  {
   "cell_type": "code",
   "execution_count": null,
   "id": "49e9d0d4",
   "metadata": {
    "_kg_hide-input": true,
    "execution": {
     "iopub.execute_input": "2022-02-25T18:53:13.352325Z",
     "iopub.status.busy": "2022-02-25T18:53:13.351791Z",
     "iopub.status.idle": "2022-02-25T18:53:13.355866Z",
     "shell.execute_reply": "2022-02-25T18:53:13.356393Z",
     "shell.execute_reply.started": "2022-02-25T18:12:51.680762Z"
    },
    "papermill": {
     "duration": 0.038901,
     "end_time": "2022-02-25T18:53:13.356554",
     "exception": false,
     "start_time": "2022-02-25T18:53:13.317653",
     "status": "completed"
    },
    "tags": []
   },
   "outputs": [
    {
     "name": "stdout",
     "output_type": "stream",
     "text": [
      "(462, 1)\n",
      "(577, 1)\n"
     ]
    }
   ],
   "source": [
    "#Chọn mục tiêu dự đoán: \n",
    "#Mục tiêu dự đoán được chọn là giá đóng cửa ('Close' attribute) của cổ phiếu.\n",
    "target = 'Close' \n",
    "\n",
    "\n",
    "#Chọn tập huấn luyện và tập kiểm tra:\n",
    "# train_start_date được đặt bằng start_date, tức là ngày bắt đầu của khoảng thời gian được chọn.\n",
    "# train_end_date được đặt là '2021-10-31', tức là ngày cuối cùng của tập huấn luyện.\n",
    "# test_start_date được đặt là '2021-11-01', tức là ngày đầu tiên của tập kiểm tra.\n",
    "# training_set được chọn từ stock trong khoảng thời gian từ train_start_date đến train_end_date, và chỉ lấy cột Close. Sau đó, dữ liệu này được chuyển thành mảng numpy.\n",
    "# test_set được chọn từ stock bắt đầu từ test_start_date và chỉ lấy cột Close. Tương tự, dữ liệu này cũng được chuyển thành mảng numpy.\n",
    "train_start_date = start_date\n",
    "train_end_date = '2021-10-31'\n",
    "test_start_date = '2021-11-01'\n",
    "training_set = stock[train_start_date:train_end_date].iloc[:,3:4].values \n",
    "test_set = stock[test_start_date:].iloc[:,3:4].values\n",
    "\n",
    "\n",
    "#Tính toán tỷ suất lợi nhuận (return) của tập kiểm tra:\n",
    "# test_set_return được tính bằng cách sử dụng phương thức pct_change() để tính toán tỷ suất thay đổi giá trị của cột Close trong tập kiểm tra.\n",
    "# Kết quả được chuyển thành một mảng numpy.\n",
    "test_set_return = stock[test_start_date:].iloc[:,3:4].pct_change().values\n",
    "\n",
    "\n",
    "#In kích thước của tập huấn luyện và tập kiểm tra:\n",
    "# Kích thước của training_set và test_set được in ra để kiểm tra.\n",
    "print(training_set.shape)\n",
    "print(test_set.shape)"
   ]
  },
  {
   "cell_type": "code",
   "execution_count": null,
   "id": "f313d9e0",
   "metadata": {
    "execution": {
     "iopub.execute_input": "2022-02-25T18:53:13.459588Z",
     "iopub.status.busy": "2022-02-25T18:53:13.458883Z",
     "iopub.status.idle": "2022-02-25T18:53:13.777389Z",
     "shell.execute_reply": "2022-02-25T18:53:13.777821Z",
     "shell.execute_reply.started": "2022-02-25T18:12:51.708563Z"
    },
    "papermill": {
     "duration": 0.348334,
     "end_time": "2022-02-25T18:53:13.777968",
     "exception": false,
     "start_time": "2022-02-25T18:53:13.429634",
     "status": "completed"
    },
    "tags": []
   },
   "outputs": [
    {
     "ename": "NameError",
     "evalue": "name 'stock' is not defined",
     "output_type": "error",
     "traceback": [
      "\u001b[1;31m---------------------------------------------------------------------------\u001b[0m",
      "\u001b[1;31mNameError\u001b[0m                                 Traceback (most recent call last)",
      "Cell \u001b[1;32mIn[1], line 16\u001b[0m\n\u001b[0;32m      1\u001b[0m \u001b[38;5;66;03m#Vẽ biểu đồ giá cổ phiếu của công ty trong tập huấn luyện và tập kiểm tra.\u001b[39;00m\n\u001b[0;32m      2\u001b[0m \u001b[38;5;66;03m# 1. `stock[target][train_start_date:train_end_date].plot(figsize=(16,4),legend=True)`: \u001b[39;00m\n\u001b[0;32m      3\u001b[0m \u001b[38;5;66;03m#Đoạn này vẽ biểu đồ giá cổ phiếu của công ty trong tập huấn luyện từ `train_start_date` đến `train_end_date`. \u001b[39;00m\n\u001b[1;32m   (...)\u001b[0m\n\u001b[0;32m     14\u001b[0m \n\u001b[0;32m     15\u001b[0m \u001b[38;5;66;03m# 5. `plt.show()`: Hiển thị biểu đồ.\u001b[39;00m\n\u001b[1;32m---> 16\u001b[0m \u001b[43mstock\u001b[49m[target][train_start_date:train_end_date]\u001b[38;5;241m.\u001b[39mplot(figsize\u001b[38;5;241m=\u001b[39m(\u001b[38;5;241m16\u001b[39m,\u001b[38;5;241m4\u001b[39m),legend\u001b[38;5;241m=\u001b[39m\u001b[38;5;28;01mTrue\u001b[39;00m)\n\u001b[0;32m     17\u001b[0m stock[target][test_start_date:]\u001b[38;5;241m.\u001b[39mplot(figsize\u001b[38;5;241m=\u001b[39m(\u001b[38;5;241m16\u001b[39m,\u001b[38;5;241m4\u001b[39m),legend\u001b[38;5;241m=\u001b[39m\u001b[38;5;28;01mTrue\u001b[39;00m)\n\u001b[0;32m     18\u001b[0m plt\u001b[38;5;241m.\u001b[39mlegend([\u001b[38;5;124mf\u001b[39m\u001b[38;5;124m'\u001b[39m\u001b[38;5;124mTraining set (Before \u001b[39m\u001b[38;5;132;01m{\u001b[39;00mtrain_end_date\u001b[38;5;132;01m}\u001b[39;00m\u001b[38;5;124m)\u001b[39m\u001b[38;5;124m'\u001b[39m,\u001b[38;5;124mf\u001b[39m\u001b[38;5;124m'\u001b[39m\u001b[38;5;124mTest set (\u001b[39m\u001b[38;5;132;01m{\u001b[39;00mtest_start_date\u001b[38;5;132;01m}\u001b[39;00m\u001b[38;5;124m and beyond)\u001b[39m\u001b[38;5;124m'\u001b[39m])\n",
      "\u001b[1;31mNameError\u001b[0m: name 'stock' is not defined"
     ]
    },
    {
     "ename": "",
     "evalue": "",
     "output_type": "error",
     "traceback": [
      "\u001b[1;31mThe Kernel crashed while executing code in the current cell or a previous cell. \n",
      "\u001b[1;31mPlease review the code in the cell(s) to identify a possible cause of the failure. \n",
      "\u001b[1;31mClick <a href='https://aka.ms/vscodeJupyterKernelCrash'>here</a> for more info. \n",
      "\u001b[1;31mView Jupyter <a href='command:jupyter.viewOutput'>log</a> for further details."
     ]
    }
   ],
   "source": [
    "#Vẽ biểu đồ giá cổ phiếu của công ty trong tập huấn luyện và tập kiểm tra.\n",
    "# 1. `stock[target][train_start_date:train_end_date].plot(figsize=(16,4),legend=True)`: \n",
    "#Đoạn này vẽ biểu đồ giá cổ phiếu của công ty trong tập huấn luyện từ `train_start_date` đến `train_end_date`. \n",
    "#Biểu đồ này có kích thước (16, 4) và có chú thích (legend).\n",
    "\n",
    "# 2. `stock[target][test_start_date:].plot(figsize=(16,4),legend=True)`: \n",
    "#Đoạn này vẽ biểu đồ giá cổ phiếu của công ty trong tập kiểm tra từ `test_start_date` đến cuối dữ liệu. \n",
    "#Cũng có kích thước (16, 4) và chú thích (legend).\n",
    "\n",
    "# 3. `plt.legend([f'Training set (Before {train_end_date})',f'Test set ({test_start_date} and beyond)'])`: \n",
    "#Đoạn này tạo chú thích cho biểu đồ, hiển thị các nhãn cho tập huấn luyện và tập kiểm tra.\n",
    "\n",
    "# 4. `plt.title(f'{symbol_to_fetch} stock price')`: Đoạn này đặt tiêu đề cho biểu đồ, sử dụng tên của công ty để tạo tiêu đề.\n",
    "\n",
    "# 5. `plt.show()`: Hiển thị biểu đồ.\n",
    "stock[target][train_start_date:train_end_date].plot(figsize=(16,4),legend=True)\n",
    "stock[target][test_start_date:].plot(figsize=(16,4),legend=True)\n",
    "plt.legend([f'Training set (Before {train_end_date})',f'Test set ({test_start_date} and beyond)'])\n",
    "plt.title(f'{symbol_to_fetch} stock price')\n",
    "plt.show()"
   ]
  },
  {
   "cell_type": "code",
   "execution_count": null,
   "id": "2225325d",
   "metadata": {
    "_kg_hide-input": true,
    "execution": {
     "iopub.execute_input": "2022-02-25T18:53:13.832714Z",
     "iopub.status.busy": "2022-02-25T18:53:13.831170Z",
     "iopub.status.idle": "2022-02-25T18:53:13.833339Z",
     "shell.execute_reply": "2022-02-25T18:53:13.833760Z",
     "shell.execute_reply.started": "2022-02-25T18:12:52.009723Z"
    },
    "papermill": {
     "duration": 0.030624,
     "end_time": "2022-02-25T18:53:13.833879",
     "exception": false,
     "start_time": "2022-02-25T18:53:13.803255",
     "status": "completed"
    },
    "tags": []
   },
   "outputs": [],
   "source": [
    "#Chia tỷ lệ dữ liệu huấn luyện để đảm bảo rằng các giá trị đều nằm trong khoảng từ 0 đến 1.\n",
    "# 1. `sc = MinMaxScaler(feature_range=(0,1))`: Tạo một đối tượng `MinMaxScaler` để chia tỷ lệ dữ liệu.\n",
    "\n",
    "# 2. `training_set_scaled = sc.fit_transform(training_set)`: \n",
    "#Sử dụng phương thức `fit_transform` của `MinMaxScaler` để chia tỷ lệ dữ liệu huấn luyện. \n",
    "#Các giá trị của `training_set` sẽ được chia tỷ lệ sao cho chúng nằm trong khoảng từ 0 đến 1 và được lưu vào `training_set_scaled`. \n",
    "#Điều này giúp mô hình dễ dàng học được các mẫu và có thể cải thiện hiệu suất của mô hình.\n",
    "sc = MinMaxScaler(feature_range=(0,1))\n",
    "training_set_scaled = sc.fit_transform(training_set)"
   ]
  },
  {
   "cell_type": "code",
   "execution_count": null,
   "id": "d2d45b1b",
   "metadata": {
    "execution": {
     "iopub.execute_input": "2022-02-25T18:53:13.887797Z",
     "iopub.status.busy": "2022-02-25T18:53:13.886222Z",
     "iopub.status.idle": "2022-02-25T18:53:13.891413Z",
     "shell.execute_reply": "2022-02-25T18:53:13.892029Z",
     "shell.execute_reply.started": "2022-02-25T18:12:52.016917Z"
    },
    "papermill": {
     "duration": 0.035032,
     "end_time": "2022-02-25T18:53:13.892198",
     "exception": false,
     "start_time": "2022-02-25T18:53:13.857166",
     "status": "completed"
    },
    "tags": []
   },
   "outputs": [
    {
     "name": "stdout",
     "output_type": "stream",
     "text": [
      "[0.18391031 0.17679255 0.18256968 0.17913274 0.19083303 0.2065312\n",
      " 0.20823751 0.22439877] 0.213965940673996\n",
      "[0.17679255 0.18256968 0.17913274 0.19083303 0.2065312  0.20823751\n",
      " 0.22439877 0.21396594] 0.21069949928046772\n"
     ]
    }
   ],
   "source": [
    "#Chuẩn bị dữ liệu huấn luyện để sử dụng cho mô hình dự đoán.\n",
    "# 1. `timesteps = 8`: Đây là số bước thời gian trước đó mà chúng ta sẽ sử dụng để dự đoán giá trị tại thời điểm hiện tại.\n",
    "# 2. `x_train` và `y_train` là hai danh sách trống sẽ chứa các dữ liệu huấn luyện.\n",
    "# 3. Vòng lặp `for` duyệt qua từng thời điểm trong tập huấn luyện bắt đầu từ `timesteps` (tức là sau 8 bước thời gian đầu tiên).\n",
    "# 4. Trong mỗi vòng lặp, chúng ta thêm một mẫu dữ liệu huấn luyện vào `x_train`. \n",
    "# Mỗi mẫu này bao gồm 8 bước thời gian trước đó, và tất cả các đặc trưng của mẫu đều được chứa trong một mảng 1D. \n",
    "# Chúng ta cũng thêm giá trị tương ứng của thời điểm hiện tại vào `y_train`.\n",
    "# 5. Cuối cùng, chúng ta chuyển đổi `x_train` và `y_train` thành các mảng NumPy và in ra một số giá trị mẫu đầu tiên của chúng.\n",
    "timesteps = 8\n",
    "x_train = []\n",
    "y_train = []\n",
    "for i in range(timesteps,training_set.shape[0]):\n",
    "    x_train.append(training_set_scaled[i-timesteps:i,0])\n",
    "    y_train.append(training_set_scaled[i,0])\n",
    "x_train, y_train = np.array(x_train), np.array(y_train)\n",
    "\n",
    "print(x_train[0], y_train[0])\n",
    "print(x_train[1], y_train[1])\n"
   ]
  },
  {
   "cell_type": "code",
   "execution_count": null,
   "id": "0ae32301",
   "metadata": {
    "_kg_hide-input": true,
    "execution": {
     "iopub.execute_input": "2022-02-25T18:53:13.994261Z",
     "iopub.status.busy": "2022-02-25T18:53:13.993614Z",
     "iopub.status.idle": "2022-02-25T18:53:13.996569Z",
     "shell.execute_reply": "2022-02-25T18:53:13.997004Z",
     "shell.execute_reply.started": "2022-02-25T18:12:52.031309Z"
    },
    "papermill": {
     "duration": 0.03303,
     "end_time": "2022-02-25T18:53:13.997141",
     "exception": false,
     "start_time": "2022-02-25T18:53:13.964111",
     "status": "completed"
    },
    "tags": []
   },
   "outputs": [
    {
     "name": "stdout",
     "output_type": "stream",
     "text": [
      "(454, 8) (454,)\n",
      "(454, 8, 1) (454,)\n"
     ]
    }
   ],
   "source": [
    "#Chuyển đổi hình dạng của `x_train` để phù hợp với yêu cầu đầu vào của mạng nơ-ron.\n",
    "# 1. `print(x_train.shape, y_train.shape)`: Dòng này in ra hình dạng (shape) của `x_train` và `y_train` trước khi thay đổi hình dạng.\n",
    "\n",
    "# 2. `x_train = x_train.reshape((x_train.shape[0], x_train.shape[1], 1))`: \n",
    "# Dòng này thay đổi hình dạng của `x_train` từ (số lượng mẫu, số bước thời gian trước đó) thành (số lượng mẫu, số bước thời gian trước đó, số đặc trưng). \n",
    "# Điều này là cần thiết để sử dụng mạng nơ-ron của TensorFlow, vì mạng yêu cầu dữ liệu đầu vào có ba chiều. \n",
    "# Trong trường hợp này, mỗi mẫu dữ liệu huấn luyện sẽ có hai chiều (số bước thời gian trước đó và số đặc trưng), và chúng ta mở rộng thêm một chiều nữa để tạo thành ba chiều.\n",
    "\n",
    "# 3. `print(x_train.shape, y_train.shape)`: Dòng này in ra hình dạng mới của `x_train` và không thay đổi hình dạng của `y_train`.\n",
    "print(x_train.shape, y_train.shape)\n",
    "x_train = x_train.reshape((x_train.shape[0], x_train.shape[1], 1))\n",
    "print(x_train.shape, y_train.shape)"
   ]
  },
  {
   "cell_type": "code",
   "execution_count": null,
   "id": "eb5b0e5f",
   "metadata": {
    "_cell_guid": "b1076dfc-b9ad-4769-8c92-a6c4dae69d19",
    "_kg_hide-input": true,
    "_uuid": "8f2839f25d086af736a60e9eeb907d3b93b6e0e5",
    "execution": {
     "iopub.execute_input": "2022-02-25T18:53:14.050233Z",
     "iopub.status.busy": "2022-02-25T18:53:14.049680Z",
     "iopub.status.idle": "2022-02-25T18:53:14.055076Z",
     "shell.execute_reply": "2022-02-25T18:53:14.054464Z",
     "shell.execute_reply.started": "2022-02-25T18:12:52.041703Z"
    },
    "papermill": {
     "duration": 0.033847,
     "end_time": "2022-02-25T18:53:14.055227",
     "exception": false,
     "start_time": "2022-02-25T18:53:14.021380",
     "status": "completed"
    },
    "tags": []
   },
   "outputs": [
    {
     "name": "stdout",
     "output_type": "stream",
     "text": [
      "(454, 8) (454,)\n"
     ]
    }
   ],
   "source": [
    "#Xáo trộn ngẫu nhiên các mẫu trong tập huấn luyện `x_train` và `y_train`.\n",
    "# 1. `idx = np.random.permutation(len(x_train))`: Dòng này tạo ra một chuỗi số nguyên từ 0 đến (độ dài của `x_train` - 1) và xáo trộn ngẫu nhiên các số này.\n",
    "# 2. `x_train = x_train[idx]` và `y_train = y_train[idx]`: Dòng này sử dụng chuỗi số đã được xáo trộn để tái sắp xếp lại thứ tự của các mẫu trong `x_train` và `y_train`. \n",
    "# Điều này giúp tăng tính ngẫu nhiên và đa dạng cho tập dữ liệu huấn luyện, từ đó cải thiện hiệu suất và khả năng tổng quát hóa của mô hình.\n",
    "# Việc xáo trộn mẫu trong quá trình huấn luyện giúp mô hình học được cách tổng quát hóa tốt hơn và giảm nguy cơ mô hình bị overfitting.\n",
    "print(x_train.shape, y_train.shape)\n",
    "idx = np.random.permutation(len(x_train))\n",
    "x_train = x_train[idx]\n",
    "y_train = y_train[idx]"
   ]
  },
  {
   "cell_type": "markdown",
   "id": "4e8cd843",
   "metadata": {
    "papermill": {
     "duration": 0.031084,
     "end_time": "2022-02-25T18:53:14.111129",
     "exception": false,
     "start_time": "2022-02-25T18:53:14.080045",
     "status": "completed"
    },
    "tags": []
   },
   "source": [
    "#### Build the model"
   ]
  },
  {
   "cell_type": "code",
   "execution_count": null,
   "id": "f19b6a2f",
   "metadata": {
    "execution": {
     "iopub.execute_input": "2022-02-25T18:53:14.294342Z",
     "iopub.status.busy": "2022-02-25T18:53:14.293419Z",
     "iopub.status.idle": "2022-02-25T18:53:14.295234Z",
     "shell.execute_reply": "2022-02-25T18:53:14.295900Z",
     "shell.execute_reply.started": "2022-02-25T18:12:52.051204Z"
    },
    "papermill": {
     "duration": 0.061204,
     "end_time": "2022-02-25T18:53:14.296088",
     "exception": false,
     "start_time": "2022-02-25T18:53:14.234884",
     "status": "completed"
    },
    "tags": []
   },
   "outputs": [],
   "source": [
    "#hàm transformer_encoder thực hiện một phần của quá trình mã hóa trong mô hình Transformer, bao gồm chuẩn hóa, attention, và feed-forward neural network.\n",
    "def transformer_encoder(inputs, head_size, num_heads, ff_dim, dropout=0):\n",
    "    #Normalization and Attention:\n",
    "    # Đầu tiên, dữ liệu đầu vào inputs được chuẩn hóa bằng lớp LayerNormalization với tham số epsilon=1e-6. \n",
    "    # Chuẩn hóa này giúp đồng nhất và ổn định dữ liệu đầu vào trước khi tiếp tục qua lớp Attention.\n",
    "    # Tiếp theo, lớp MultiHeadAttention được sử dụng để tính toán sự chú ý đa đầu. \n",
    "    # Lớp này nhận đầu vào x hai lần để tính toán ma trận chú ý. \n",
    "    # key_dim là kích thước của vectơ key trong mỗi đầu vào, num_heads là số lượng head được sử dụng trong attention, và dropout là tỷ lệ dropout được áp dụng cho attention weights.\n",
    "    # Sau khi tính toán attention, lớp Dropout được áp dụng để ngẫu nhiên \"tắt\" một số neuron để tránh overfitting.\n",
    "    # Kết quả cuối cùng của lớp này là tổng của đầu vào ban đầu inputs và kết quả của lớp Attention, được lưu vào biến res.\n",
    "    x = layers.LayerNormalization(epsilon=1e-6)(inputs)\n",
    "    x = layers.MultiHeadAttention(\n",
    "        key_dim=head_size, num_heads=num_heads, dropout=dropout\n",
    "    )(x, x)\n",
    "    x = layers.Dropout(dropout)(x)\n",
    "    res = x + inputs\n",
    "    \n",
    "    #FEED FORWARD Part:\n",
    "    # Phần này là một feed-forward neural network được áp dụng sau lớp Attention. \n",
    "    # Trong ví dụ này, phần feed-forward bao gồm hai lớp Conv1D. \n",
    "    # Lớp đầu tiên có số lượng bộ lọc là ff_dim và kích thước kernel là 1, kích hoạt là hàm relu. \n",
    "    # Lớp thứ hai có số lượng bộ lọc bằng số chiều của đầu vào inputs và kernel size là 1.\n",
    "    # Lớp Dropout được áp dụng sau mỗi lớp Conv1D để giảm overfitting.\n",
    "    # Kết quả cuối cùng của phần này là tổng của kết quả của lớp Conv1D và res, được trả về từ hàm.\n",
    "    x = layers.LayerNormalization(epsilon=1e-6)(res)\n",
    "    x = layers.Conv1D(filters=ff_dim, kernel_size=1, activation = \"relu\")(x)\n",
    "    x = layers.Dropout(dropout)(x)\n",
    "    x = layers.Conv1D(filters=inputs.shape[-1], kernel_size=1)(x)\n",
    "    return x + res"
   ]
  },
  {
   "cell_type": "code",
   "execution_count": null,
   "id": "4e98c179",
   "metadata": {
    "execution": {
     "iopub.execute_input": "2022-02-25T18:53:14.465700Z",
     "iopub.status.busy": "2022-02-25T18:53:14.464823Z",
     "iopub.status.idle": "2022-02-25T18:53:14.480898Z",
     "shell.execute_reply": "2022-02-25T18:53:14.481738Z",
     "shell.execute_reply.started": "2022-02-25T18:12:52.060856Z"
    },
    "papermill": {
     "duration": 0.066044,
     "end_time": "2022-02-25T18:53:14.481958",
     "exception": false,
     "start_time": "2022-02-25T18:53:14.415914",
     "status": "completed"
    },
    "tags": []
   },
   "outputs": [],
   "source": [
    "#Hàm build_model trong đoạn mã trên được sử dụng để xây dựng một mô hình mạng nơ-ron sử dụng kiến trúc Transformer.\n",
    "def build_model(\n",
    "    input_shape,             #Kích thước của đầu vào cho mô hình. Đây là hình dạng của dữ liệu đầu vào mà mô hình sẽ xử lý.\n",
    "    head_size,               #Kích thước của vectơ key trong mỗi đầu vào trong lớp Attention.\n",
    "    num_heads,               #Số lượng head được sử dụng trong lớp Attention.\n",
    "    ff_dim,                  #Số lượng bộ lọc của lớp feed-forward neural network trong mỗi khối Transformer.\n",
    "    num_transformer_blocks,  #Số lượng khối Transformer được xếp chồng lên nhau trong mô hình.\n",
    "    mlp_units,               #Danh sách các đơn vị ẩn của các lớp fully connected (hoặc dense) sau khi global average pooling. \n",
    "                             #Mỗi phần tử trong danh sách này đại diện cho số lượng đơn vị ẩn của mỗi lớp dense.\n",
    "    dropout=0,               #Tỷ lệ dropout được áp dụng cho các lớp dense sau khi global average pooling.\n",
    "    mlp_dropout=0,\n",
    "):\n",
    "    \n",
    "    #Đầu tiên, đầu vào của mô hình được xác định bằng cách sử dụng keras.Input với hình dạng input_shape.\n",
    "    # Tiếp theo, mỗi khối Transformer được xây dựng bằng cách lặp qua num_transformer_blocks lần gọi hàm transformer_encoder, trong đó x là đầu ra của khối trước đó.\n",
    "    # Sau khi các khối Transformer được xây dựng, đầu ra của lớp GlobalAveragePooling1D được sử dụng để tổng hợp thông tin từ tất cả các phần tử trong chuỗi đầu ra.\n",
    "    # Cuối cùng, các lớp dense được sử dụng để dự đoán giá trị đầu ra dựa trên thông tin đã được tổng hợp, và kết quả được trả về dưới dạng một mô hình Keras.\n",
    "    inputs = keras.Input(shape=input_shape)\n",
    "    x = inputs\n",
    "    \n",
    "    for _ in range(num_transformer_blocks):  \n",
    "        x = transformer_encoder(x, head_size, num_heads, ff_dim, dropout)\n",
    "\n",
    "    x = layers.GlobalAveragePooling1D(data_format=\"channels_first\")(x)\n",
    "    for dim in mlp_units:\n",
    "        x = layers.Dense(dim, activation=\"elu\")(x)\n",
    "        x = layers.Dropout(mlp_dropout)(x)\n",
    "    outputs = layers.Dense(1, activation=\"linear\")(x) \n",
    "    return keras.Model(inputs, outputs)\n"
   ]
  },
  {
   "cell_type": "code",
   "execution_count": null,
   "id": "71ad46d3",
   "metadata": {
    "_kg_hide-input": true,
    "execution": {
     "iopub.execute_input": "2022-02-25T18:53:14.674521Z",
     "iopub.status.busy": "2022-02-25T18:53:14.673790Z",
     "iopub.status.idle": "2022-02-25T18:53:14.675893Z",
     "shell.execute_reply": "2022-02-25T18:53:14.675204Z",
     "shell.execute_reply.started": "2022-02-25T18:12:52.071826Z"
    },
    "papermill": {
     "duration": 0.054093,
     "end_time": "2022-02-25T18:53:14.676055",
     "exception": false,
     "start_time": "2022-02-25T18:53:14.621962",
     "status": "completed"
    },
    "tags": []
   },
   "outputs": [],
   "source": [
    "# Hàm lr_scheduler trong mã trên được sử dụng để xác định tốc độ học của mô hình dựa trên số epoch đã được huấn luyện. \n",
    "# Đây là một cơ chế quan trọng trong việc điều chỉnh tốc độ học của mô hình theo thời gian.\n",
    "\n",
    "#epoch:Số lượng epoch đã được huấn luyện.\n",
    "# lr:Tốc độ học hiện tại của mô hình.\n",
    "# warmup_epochs:Số lượng epoch được sử dụng cho quá trình \"warm-up\", trong đó tốc độ học tăng dần từ initial_lr đến base_lr.\n",
    "# decay_epochs:Số lượng epoch được sử dụng cho quá trình giảm tốc độ học từ base_lr đến min_lr.\n",
    "# initial_lr:Tốc độ học ban đầu, được sử dụng vào thời điểm đầu tiên của quá trình huấn luyện.\n",
    "# base_lr:Tốc độ học cuối cùng trong giai đoạn \"warm-up\" và đồng thời là tốc độ học ban đầu trong giai đoạn \"decay\".\n",
    "# min_lr:Tốc độ học tối thiểu, là giới hạn dưới của tốc độ học trong quá trình \"decay\".\n",
    "\n",
    "#Bước thực hiện của hàm lr_scheduler:\n",
    "# Trong giai đoạn \"warm-up\" (epoch <= warmup_epochs), tốc độ học được tăng dần từ initial_lr đến base_lr theo tỷ lệ tuyến tính với số epoch.\n",
    "# Trong giai đoạn \"decay\" (epoch > warmup_epochs và epoch < warmup_epochs+decay_epochs), tốc độ học được giảm dần từ base_lr đến min_lr theo tỷ lệ tuyến tính với số epoch.\n",
    "# Trong trường hợp epoch vượt quá warmup_epochs+decay_epochs, tốc độ học được giữ ở min_lr không thay đổi.\n",
    "def lr_scheduler(epoch, lr, warmup_epochs=30, decay_epochs=100, initial_lr=1e-6, base_lr=1e-3, min_lr=5e-5):\n",
    "    if epoch <= warmup_epochs:\n",
    "        pct = epoch / warmup_epochs\n",
    "        return ((base_lr - initial_lr) * pct) + initial_lr\n",
    "\n",
    "    if epoch > warmup_epochs and epoch < warmup_epochs+decay_epochs:\n",
    "        pct = 1 - ((epoch - warmup_epochs) / decay_epochs)\n",
    "        return ((base_lr - min_lr) * pct) + min_lr\n",
    "\n",
    "    return min_lr\n",
    "\n"
   ]
  },
  {
   "cell_type": "code",
   "execution_count": null,
   "id": "adc662a7",
   "metadata": {
    "execution": {
     "iopub.execute_input": "2022-02-25T18:53:14.763752Z",
     "iopub.status.busy": "2022-02-25T18:53:14.762933Z",
     "iopub.status.idle": "2022-02-25T18:53:14.766057Z",
     "shell.execute_reply": "2022-02-25T18:53:14.766624Z",
     "shell.execute_reply.started": "2022-02-25T18:13:50.942998Z"
    },
    "papermill": {
     "duration": 0.049972,
     "end_time": "2022-02-25T18:53:14.766824",
     "exception": false,
     "start_time": "2022-02-25T18:53:14.716852",
     "status": "completed"
    },
    "tags": []
   },
   "outputs": [],
   "source": [
    "#Trong đoạn mã trên, `callbacks` là một danh sách các callbacks được sử dụng trong quá trình huấn luyện của mô hình. Dưới đây là mô tả của hai callbacks được sử dụng:\n",
    "# 1. EarlyStopping:\n",
    "# - `EarlyStopping` là một callback trong TensorFlow/Keras được sử dụng để dừng quá trình huấn luyện sớm nếu mất mát trên tập validation không cải thiện trong một số lượng epoch liên tục được chỉ định (patience).\n",
    "# - Trong đoạn mã trên, `patience=10` có nghĩa là quá trình huấn luyện sẽ dừng nếu không có cải thiện nào trong mất mát trên tập validation trong vòng 10 epoch liên tiếp.\n",
    "# - `restore_best_weights=True` được sử dụng để khôi phục trọng số của mô hình về phiên bản tốt nhất (trong trường hợp mất mát trên tập validation không cải thiện) trước khi dừng quá trình huấn luyện.\n",
    "# 2. LearningRateScheduler:\n",
    "# - `LearningRateScheduler` là một callback trong TensorFlow/Keras được sử dụng để lên lịch tốc độ học của mô hình trong quá trình huấn luyện.\n",
    "# - Trong đoạn mã trên, `lr_scheduler` là một hàm được truyền vào để xác định tốc độ học dựa trên số lượng epoch đã được huấn luyện.\n",
    "# - Callback này giúp điều chỉnh tốc độ học của mô hình theo thời gian, giúp tối ưu hóa quá trình huấn luyện và tránh việc mô hình bị kẹt ở các cực tiểu cục bộ.\n",
    "callbacks = [\n",
    "            keras.callbacks.EarlyStopping(patience=10, restore_best_weights=True),\n",
    "            keras.callbacks.LearningRateScheduler(lr_scheduler)\n",
    "            ]"
   ]
  },
  {
   "cell_type": "code",
   "execution_count": null,
   "id": "aecebe6c",
   "metadata": {
    "execution": {
     "iopub.execute_input": "2022-02-25T18:53:14.856754Z",
     "iopub.status.busy": "2022-02-25T18:53:14.855877Z",
     "iopub.status.idle": "2022-02-25T18:53:14.860135Z",
     "shell.execute_reply": "2022-02-25T18:53:14.857446Z",
     "shell.execute_reply.started": "2022-02-25T18:20:23.155264Z"
    },
    "papermill": {
     "duration": 0.052505,
     "end_time": "2022-02-25T18:53:14.860393",
     "exception": false,
     "start_time": "2022-02-25T18:53:14.807888",
     "status": "completed"
    },
    "tags": []
   },
   "outputs": [
    {
     "name": "stdout",
     "output_type": "stream",
     "text": [
      "(8, 1)\n"
     ]
    }
   ],
   "source": [
    "#Dòng mã này đang xác định hình dạng của input cho mô hình. \n",
    "#Biến `x_train` là tập dữ liệu đầu vào được sử dụng để huấn luyện mô hình, và `input_shape` được sử dụng để xác định kích thước của input.\n",
    "# Trong trường hợp này, `x_train.shape[1:]` trả về hình dạng của `x_train`, loại bỏ chiều batch size (đầu tiên) và chỉ giữ lại kích thước của các features. \n",
    "# Do đó, `input_shape` sẽ là một tuple chứa kích thước của mỗi mẫu dữ liệu đầu vào.\n",
    "# Dòng mã tiếp theo sau khi in `input_shape` sẽ hiển thị kích thước của dữ liệu đầu vào, giúp bạn biết được số lượng features mà mô hình sẽ nhận đầu vào.\n",
    "input_shape = x_train.shape[1:]\n",
    "print(input_shape)"
   ]
  },
  {
   "cell_type": "code",
   "execution_count": null,
   "id": "76ac77e1",
   "metadata": {
    "execution": {
     "iopub.execute_input": "2022-02-25T18:53:14.961343Z",
     "iopub.status.busy": "2022-02-25T18:53:14.959914Z",
     "iopub.status.idle": "2022-02-25T18:54:02.614296Z",
     "shell.execute_reply": "2022-02-25T18:54:02.614719Z",
     "shell.execute_reply.started": "2022-02-25T18:13:54.628665Z"
    },
    "papermill": {
     "duration": 47.710567,
     "end_time": "2022-02-25T18:54:02.614908",
     "exception": false,
     "start_time": "2022-02-25T18:53:14.904341",
     "status": "completed"
    },
    "tags": []
   },
   "outputs": [
    {
     "name": "stdout",
     "output_type": "stream",
     "text": [
      "WARNING:tensorflow:From C:\\Users\\Lenovo\\AppData\\Roaming\\Python\\Python39\\site-packages\\keras\\src\\backend.py:1398: The name tf.executing_eagerly_outside_functions is deprecated. Please use tf.compat.v1.executing_eagerly_outside_functions instead.\n",
      "\n"
     ]
    },
    {
     "name": "stderr",
     "output_type": "stream",
     "text": [
      "WARNING:tensorflow:From C:\\Users\\Lenovo\\AppData\\Roaming\\Python\\Python39\\site-packages\\keras\\src\\backend.py:1398: The name tf.executing_eagerly_outside_functions is deprecated. Please use tf.compat.v1.executing_eagerly_outside_functions instead.\n",
      "\n"
     ]
    },
    {
     "name": "stdout",
     "output_type": "stream",
     "text": [
      "Epoch 1/100\n",
      "WARNING:tensorflow:From C:\\Users\\Lenovo\\AppData\\Roaming\\Python\\Python39\\site-packages\\keras\\src\\utils\\tf_utils.py:492: The name tf.ragged.RaggedTensorValue is deprecated. Please use tf.compat.v1.ragged.RaggedTensorValue instead.\n",
      "\n"
     ]
    },
    {
     "name": "stderr",
     "output_type": "stream",
     "text": [
      "WARNING:tensorflow:From C:\\Users\\Lenovo\\AppData\\Roaming\\Python\\Python39\\site-packages\\keras\\src\\utils\\tf_utils.py:492: The name tf.ragged.RaggedTensorValue is deprecated. Please use tf.compat.v1.ragged.RaggedTensorValue instead.\n",
      "\n"
     ]
    },
    {
     "name": "stdout",
     "output_type": "stream",
     "text": [
      "WARNING:tensorflow:From C:\\Users\\Lenovo\\AppData\\Roaming\\Python\\Python39\\site-packages\\keras\\src\\engine\\base_layer_utils.py:384: The name tf.executing_eagerly_outside_functions is deprecated. Please use tf.compat.v1.executing_eagerly_outside_functions instead.\n",
      "\n"
     ]
    },
    {
     "name": "stderr",
     "output_type": "stream",
     "text": [
      "WARNING:tensorflow:From C:\\Users\\Lenovo\\AppData\\Roaming\\Python\\Python39\\site-packages\\keras\\src\\engine\\base_layer_utils.py:384: The name tf.executing_eagerly_outside_functions is deprecated. Please use tf.compat.v1.executing_eagerly_outside_functions instead.\n",
      "\n"
     ]
    },
    {
     "name": "stdout",
     "output_type": "stream",
     "text": [
      "19/19 [==============================] - 11s 104ms/step - loss: 0.5758 - mean_squared_error: 0.5758 - val_loss: 0.5373 - val_mean_squared_error: 0.5373 - lr: 1.0000e-06\n",
      "Epoch 2/100\n",
      "19/19 [==============================] - 1s 60ms/step - loss: 0.4715 - mean_squared_error: 0.4715 - val_loss: 0.4193 - val_mean_squared_error: 0.4193 - lr: 3.4300e-05\n",
      "Epoch 3/100\n",
      "19/19 [==============================] - 1s 64ms/step - loss: 0.3636 - mean_squared_error: 0.3636 - val_loss: 0.3038 - val_mean_squared_error: 0.3038 - lr: 6.7600e-05\n",
      "Epoch 4/100\n",
      "19/19 [==============================] - 1s 62ms/step - loss: 0.2259 - mean_squared_error: 0.2259 - val_loss: 0.0978 - val_mean_squared_error: 0.0978 - lr: 1.0090e-04\n",
      "Epoch 5/100\n",
      "19/19 [==============================] - 1s 66ms/step - loss: 0.0825 - mean_squared_error: 0.0825 - val_loss: 0.0136 - val_mean_squared_error: 0.0136 - lr: 1.3420e-04\n",
      "Epoch 6/100\n",
      "19/19 [==============================] - 1s 65ms/step - loss: 0.0473 - mean_squared_error: 0.0473 - val_loss: 0.0162 - val_mean_squared_error: 0.0162 - lr: 1.6750e-04\n",
      "Epoch 7/100\n",
      "19/19 [==============================] - 1s 62ms/step - loss: 0.0352 - mean_squared_error: 0.0352 - val_loss: 0.0038 - val_mean_squared_error: 0.0038 - lr: 2.0080e-04\n",
      "Epoch 8/100\n",
      "19/19 [==============================] - 1s 66ms/step - loss: 0.0240 - mean_squared_error: 0.0240 - val_loss: 0.0021 - val_mean_squared_error: 0.0021 - lr: 2.3410e-04\n",
      "Epoch 9/100\n",
      "19/19 [==============================] - 1s 64ms/step - loss: 0.0244 - mean_squared_error: 0.0244 - val_loss: 0.0025 - val_mean_squared_error: 0.0025 - lr: 2.6740e-04\n",
      "Epoch 10/100\n",
      "19/19 [==============================] - 1s 66ms/step - loss: 0.0225 - mean_squared_error: 0.0225 - val_loss: 0.0026 - val_mean_squared_error: 0.0026 - lr: 3.0070e-04\n",
      "Epoch 11/100\n",
      "19/19 [==============================] - 1s 65ms/step - loss: 0.0171 - mean_squared_error: 0.0171 - val_loss: 0.0027 - val_mean_squared_error: 0.0027 - lr: 3.3400e-04\n",
      "Epoch 12/100\n",
      "19/19 [==============================] - 1s 64ms/step - loss: 0.0170 - mean_squared_error: 0.0170 - val_loss: 0.0030 - val_mean_squared_error: 0.0030 - lr: 3.6730e-04\n",
      "Epoch 13/100\n",
      "19/19 [==============================] - 1s 71ms/step - loss: 0.0180 - mean_squared_error: 0.0180 - val_loss: 0.0029 - val_mean_squared_error: 0.0029 - lr: 4.0060e-04\n",
      "Epoch 14/100\n",
      "19/19 [==============================] - 1s 65ms/step - loss: 0.0184 - mean_squared_error: 0.0184 - val_loss: 0.0026 - val_mean_squared_error: 0.0026 - lr: 4.3390e-04\n",
      "Epoch 15/100\n",
      "19/19 [==============================] - 1s 62ms/step - loss: 0.0168 - mean_squared_error: 0.0168 - val_loss: 0.0042 - val_mean_squared_error: 0.0042 - lr: 4.6720e-04\n",
      "Epoch 16/100\n",
      "19/19 [==============================] - 1s 61ms/step - loss: 0.0149 - mean_squared_error: 0.0149 - val_loss: 0.0023 - val_mean_squared_error: 0.0023 - lr: 5.0050e-04\n",
      "Epoch 17/100\n",
      "19/19 [==============================] - 1s 67ms/step - loss: 0.0190 - mean_squared_error: 0.0190 - val_loss: 0.0031 - val_mean_squared_error: 0.0031 - lr: 5.3380e-04\n",
      "Epoch 18/100\n",
      "19/19 [==============================] - 1s 63ms/step - loss: 0.0168 - mean_squared_error: 0.0168 - val_loss: 0.0024 - val_mean_squared_error: 0.0024 - lr: 5.6710e-04\n"
     ]
    }
   ],
   "source": [
    "# 1. `build_model`: Tạo một mô hình sử dụng hàm `build_model` đã được định nghĩa trước đó. \n",
    "# Hàm này nhận các tham số như `input_shape`, `head_size`, `num_heads`, `ff_dim`, `num_transformer_blocks`, `mlp_units`, `mlp_dropout`, `dropout` \n",
    "# và trả về một mô hình Transformer được xây dựng dựa trên các thông số đó.\n",
    "# 2. `model.compile`: Compile mô hình đã được xây dựng với các tham số cần thiết như hàm mất mát (`loss`), tối ưu hóa (`optimizer`), và các metric để đánh giá mô hình (`metrics`).\n",
    "# 3. `model.fit`: Tiến hành huấn luyện mô hình trên dữ liệu huấn luyện (`x_train`, `y_train`). \n",
    "# Trong quá trình huấn luyện, mô hình sẽ sử dụng một phần dữ liệu (`validation_split=0.2`) để đánh giá hiệu suất trên tập validation. \n",
    "# Quá trình huấn luyện sẽ được thực hiện trong một số `epochs` được chỉ định, và mỗi lần cập nhật mô hình sẽ sử dụng một batch size là 20. \n",
    "# Callbacks được sử dụng để điều chỉnh tốc độ học (`learning rate`) và dừng sớm (`early stopping`) nếu cần thiết.\n",
    "# Kết quả của quá trình huấn luyện sẽ được lưu lại trong biến `history` để sau này có thể phân tích hiệu suất của mô hình.\n",
    "\n",
    "model = build_model(\n",
    "    input_shape,\n",
    "    head_size=46, \n",
    "    num_heads=60, \n",
    "    ff_dim=55, \n",
    "    num_transformer_blocks=5,\n",
    "    mlp_units=[256],\n",
    "    mlp_dropout=0.4,\n",
    "    dropout=0.14,\n",
    ")\n",
    "\n",
    "model.compile(\n",
    "    loss=\"mean_squared_error\",\n",
    "    optimizer=keras.optimizers.Adam(learning_rate=1e-4),\n",
    "    metrics=[\"mean_squared_error\"],\n",
    ")\n",
    "\n",
    "history = model.fit(\n",
    "    x_train,\n",
    "    y_train,\n",
    "    validation_split=0.2,\n",
    "    epochs=100,\n",
    "    batch_size=20,\n",
    "    callbacks=callbacks,\n",
    ")"
   ]
  },
  {
   "cell_type": "markdown",
   "id": "371f1cb1",
   "metadata": {
    "papermill": {
     "duration": 0.193106,
     "end_time": "2022-02-25T18:54:03.004429",
     "exception": false,
     "start_time": "2022-02-25T18:54:02.811323",
     "status": "completed"
    },
    "tags": []
   },
   "source": [
    "#### Evaluate model"
   ]
  },
  {
   "cell_type": "code",
   "execution_count": null,
   "id": "7863554d",
   "metadata": {
    "execution": {
     "iopub.execute_input": "2022-02-25T18:54:03.406919Z",
     "iopub.status.busy": "2022-02-25T18:54:03.406035Z",
     "iopub.status.idle": "2022-02-25T18:54:04.705493Z",
     "shell.execute_reply": "2022-02-25T18:54:04.705017Z",
     "shell.execute_reply.started": "2022-02-25T18:19:23.584795Z"
    },
    "papermill": {
     "duration": 1.507255,
     "end_time": "2022-02-25T18:54:04.705617",
     "exception": false,
     "start_time": "2022-02-25T18:54:03.198362",
     "status": "completed"
    },
    "tags": []
   },
   "outputs": [
    {
     "name": "stdout",
     "output_type": "stream",
     "text": [
      "19/19 [==============================] - 1s 32ms/step\n",
      "[184.1499939] [183.86000061] [182.30999756]\n",
      "[185.03999329] [184.1499939] [183.86000061]\n",
      "[186.45891]\n"
     ]
    },
    {
     "data": {
      "image/png": "[encoded data removed]",
      "text/plain": [
       "<Figure size 640x480 with 1 Axes>"
      ]
     },
     "metadata": {},
     "output_type": "display_data"
    },
    {
     "data": {
      "image/png": "[encoded data removed]",
      "text/plain": [
       "<Figure size 640x480 with 1 Axes>"
      ]
     },
     "metadata": {},
     "output_type": "display_data"
    },
    {
     "name": "stdout",
     "output_type": "stream",
     "text": [
      "The root mean squared error is 5.442185484970319.\n"
     ]
    },
    {
     "data": {
      "image/png": "[encoded data removed]",
      "text/plain": [
       "<Figure size 640x480 with 1 Axes>"
      ]
     },
     "metadata": {},
     "output_type": "display_data"
    },
    {
     "name": "stdout",
     "output_type": "stream",
     "text": [
      "The root mean squared error is 0.03593590201263471.\n"
     ]
    },
    {
     "data": {
      "text/plain": [
       "0.03593590201263471"
      ]
     },
     "execution_count": 17,
     "metadata": {},
     "output_type": "execute_result"
    }
   ],
   "source": [
    "# 1. `dataset_total`: Tạo ra một DataFrame kết hợp dữ liệu từ tập huấn luyện và tập kiểm tra để sử dụng trong quá trình dự đoán. \n",
    "# Cụ thể, dữ liệu từ `original_stock[target][:train_end_date]` (từ đầu đến ngày kết thúc tập huấn luyện) và `original_stock[target][test_start_date:]` (từ ngày bắt đầu tập kiểm tra đến cuối) được ghép lại thành một DataFrame. \n",
    "# 2. Tiến hành chuẩn hóa dữ liệu bằng cách sử dụng `MinMaxScaler`.\n",
    "# 3. Xây dựng tập dữ liệu kiểm tra `X_test` bằng cách tạo các mẫu dữ liệu với số lượng thời điểm quan sát bằng `timesteps`. Kết quả được lưu trong biến `X_test`.\n",
    "# 4. Dự đoán giá cổ phiếu bằng cách sử dụng mô hình đã huấn luyện với tập dữ liệu kiểm tra `X_test`.\n",
    "# 5. Đảo ngược quá trình chuẩn hóa để lấy lại giá cổ phiếu dự đoán ban đầu.\n",
    "# 6. In ra giá cổ phiếu thực tế của ba ngày gần nhất trong tập kiểm tra, giá cổ phiếu dịch chuyển một ngày của ba ngày gần nhất và giá cổ phiếu được dự đoán của ngày cuối cùng trong tập kiểm tra.\n",
    "# 7. Tính toán sai số dự đoán và tính toán lỗi RMSE (Root Mean Squared Error).\n",
    "# 8. Vẽ đồ thị của lỗi mô hình qua các epoch.\n",
    "# 9. Vẽ đồ thị so sánh giữa giá cổ phiếu thực tế và giá cổ phiếu dự đoán.\n",
    "# 10. Vẽ đồ thị so sánh giữa lợi nhuận thực tế và lợi nhuận dự đoán, sau đó tính toán lỗi RMSE của lợi nhuận.\n",
    "\n",
    "dataset_total = pd.concat((original_stock[target][:train_end_date],original_stock[target][test_start_date:]),axis=0)\n",
    "inputs = dataset_total[len(dataset_total)-len(test_set) - timesteps:].values\n",
    "inputs = inputs.reshape(-1,1)\n",
    "inputs  = sc.fit_transform(inputs)\n",
    "\n",
    "X_test = []\n",
    "for i in range(timesteps,test_set.shape[0] + timesteps):\n",
    "    X_test.append(inputs[i-timesteps:i,0])\n",
    "X_test = np.array(X_test)\n",
    "X_test = np.reshape(X_test, (X_test.shape[0],X_test.shape[1],1))\n",
    "predicted_stock_price = model.predict(X_test)\n",
    "predicted_stock_price = sc.inverse_transform(predicted_stock_price)\n",
    "\n",
    "\n",
    "print(test_set[-3],test_set[-2], test_set[-1])\n",
    "shifted_test_set = shift(test_set, 1) \n",
    "print(shifted_test_set[-3],shifted_test_set[-2], shifted_test_set[-1])\n",
    "\n",
    "print(predicted_stock_price[-1])\n",
    "prediction_error = test_set - predicted_stock_price \n",
    "predicted_return = (shifted_test_set - predicted_stock_price) / shifted_test_set\n",
    "\n",
    "plt.plot(history.history['loss'])\n",
    "plt.title('model loss')\n",
    "plt.ylabel('loss')\n",
    "plt.xlabel('epoch')\n",
    "plt.legend(['loss'], loc='upper left')\n",
    "plt.show()\n",
    "\n",
    "plot_predictions(test_set,predicted_stock_price,original_symbol)\n",
    "return_rmse(test_set,predicted_stock_price)\n",
    "\n",
    "plot_return_predictions(test_set_return,predicted_return,original_symbol)\n",
    "return_rmse(test_set_return[1:], predicted_return[1:])"
   ]
  },
  {
   "cell_type": "markdown",
   "id": "9afbb494",
   "metadata": {},
   "source": [
    "## Conclusion\n",
    "\n",
    "Trong bài báo cáo này, chúng ta đã tìm hiểu về mô hình transformer và áp dụng nó vào việc dự đoán giá cổ phiếu. Mô hình transformer, được giới thiệu bởi Vaswani et al. vào năm 2017, đã chứng minh khả năng xuất sắc trong xử lý ngôn ngữ tự nhiên và dữ liệu chuỗi thời gian.\n",
    "Trong quá trình nghiên cứu, chúng ta đã thực hiện các bước sau:\n",
    "1. Tổng quan về mô hình transformer: Chúng ta đã tìm hiểu cấu trúc và hoạt động của mô hình transformer, bao gồm các lớp self-attention và feed-forward network.\n",
    "2. Tiền xử lý dữ liệu: Chúng ta đã thu thập dữ liệu giá cổ phiếu của công ty từ nguồn dữ liệu Yahoo Finance và tiền xử lý dữ liệu để chuẩn bị cho việc huấn luyện mô hình.\n",
    "3. Xây dựng mô hình transformer: Chúng ta đã xây dựng một mô hình transformer sử dụng thư viện TensorFlow và Keras, với các khối transformer được xếp chồng lên nhau.\n",
    "4. Huấn luyện mô hình: Chúng ta đã huấn luyện mô hình trên dữ liệu giá cổ phiếu đã tiền xử lý và sử dụng các kỹ thuật như dropout và learning rate scheduling để cải thiện hiệu suất mô hình.\n",
    "5. Đánh giá và dự đoán: Cuối cùng, chúng ta đã đánh giá hiệu suất của mô hình thông qua các độ đo như RMSE và vẽ đồ thị so sánh giữa giá cổ phiếu thực tế và dự đoán.\n",
    "Dựa trên kết quả của thí nghiệm, mô hình transformer đã cho thấy khả năng dự đoán khá chính xác đối với giá cổ phiếu. Tuy nhiên, để cải thiện hiệu suất và độ chính xác của mô hình, cần phải thực hiện thêm các nghiên cứu và điều chỉnh tham số. Đồng thời, có thể mở rộng phạm vi của nghiên cứu bằng cách áp dụng mô hình transformer vào các lĩnh vực khác của thị trường tài chính và phân tích chuỗi thời gian."
   ]
  },
  {
   "cell_type": "markdown",
   "id": "7acbd825",
   "metadata": {
    "papermill": {
     "duration": 0.217591,
     "end_time": "2022-02-25T18:54:06.031703",
     "exception": false,
     "start_time": "2022-02-25T18:54:05.814112",
     "status": "completed"
    },
    "tags": []
   },
   "source": [
    "\n"
   ]
  }
 ],
 "metadata": {
  "kernelspec": {
   "display_name": "Python 3 (ipykernel)",
   "language": "python",
   "name": "python3"
  },
  "language_info": {
   "codemirror_mode": {
    "name": "ipython",
    "version": 3
   },
   "file_extension": ".py",
   "mimetype": "text/x-python",
   "name": "python",
   "nbconvert_exporter": "python",
   "pygments_lexer": "ipython3",
   "version": "3.9.6"
  },
  "papermill": {
   "default_parameters": {},
   "duration": 82.430092,
   "end_time": "2022-02-25T18:54:09.689914",
   "environment_variables": {},
   "exception": null,
   "input_path": "__notebook__.ipynb",
   "output_path": "__notebook__.ipynb",
   "parameters": {},
   "start_time": "2022-02-25T18:52:47.259822",
   "version": "2.3.3"
  }
 },
 "nbformat": 4,
 "nbformat_minor": 5
}
